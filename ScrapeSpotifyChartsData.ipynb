{
  "nbformat": 4,
  "nbformat_minor": 0,
  "metadata": {
    "colab": {
      "name": "ScrapeSpotifyChartsData.ipynb",
      "provenance": [],
      "collapsed_sections": []
    },
    "kernelspec": {
      "name": "python3",
      "display_name": "Python 3"
    },
    "language_info": {
      "name": "python"
    }
  },
  "cells": [
    {
      "cell_type": "code",
      "execution_count": null,
      "metadata": {
        "id": "MOEontdqtms5"
      },
      "outputs": [],
      "source": [
        "# from google.colab import drive\n",
        "# drive.mount('/content/drive')"
      ]
    },
    {
      "cell_type": "code",
      "source": [
        "# ! pip install requests\n",
        "# !pip install requests-html"
      ],
      "metadata": {
        "id": "8ge_6da8vIJP"
      },
      "execution_count": null,
      "outputs": []
    },
    {
      "cell_type": "code",
      "source": [
        "import pandas as pd\n",
        "import requests\n",
        "from bs4 import BeautifulSoup\n",
        "import re\n",
        "import time\n",
        "from requests_html import HTMLSession, AsyncHTMLSession \n",
        "import nest_asyncio\n",
        "import asyncio\n",
        "from datetime import date, timedelta"
      ],
      "metadata": {
        "id": "FHq0NQnCtshu"
      },
      "execution_count": null,
      "outputs": []
    },
    {
      "cell_type": "code",
      "source": [
        "sdate = date(2021,8,1)   # start date\n",
        "edate = date(2022,2,27)   # end date"
      ],
      "metadata": {
        "id": "tc2wzaL8E3zz"
      },
      "execution_count": null,
      "outputs": []
    },
    {
      "cell_type": "code",
      "source": [
        "BASE_URL = '/content/drive/MyDrive/AWSHACK/'\n",
        "PATH = BASE_URL + 'daily-chart-data-after-july.csv'"
      ],
      "metadata": {
        "id": "V_JX8bc6T9iy"
      },
      "execution_count": null,
      "outputs": []
    },
    {
      "cell_type": "code",
      "source": [
        "def spotify_url(date, region=\"us\"):\n",
        "  return \"https://spotifycharts.com/regional/\"+region+\"/daily/\"+date"
      ],
      "metadata": {
        "id": "WzcxPfvuO19c"
      },
      "execution_count": null,
      "outputs": []
    },
    {
      "cell_type": "code",
      "source": [
        "async def call(url):\n",
        "  nest_asyncio.apply()\n",
        "  session = AsyncHTMLSession()\n",
        "  r = session.get(url)\n",
        "  return await r"
      ],
      "metadata": {
        "id": "h8ZC0QciIbEP"
      },
      "execution_count": null,
      "outputs": []
    },
    {
      "cell_type": "code",
      "source": [
        "def scrap_daily_data(dates):\n",
        "  results = []\n",
        "  for date in dates:\n",
        "    date = str(date).split(\" \")[0]\n",
        "    url = spotify_url(date)\n",
        "    coro = call(url)\n",
        "    loop = asyncio.get_event_loop()\n",
        "    result = loop.run_until_complete(coro)\n",
        "    html = BeautifulSoup(result.content, 'html.parser')\n",
        "    table = html.find(\"table\", class_=\"chart-table\")\n",
        "    tbody = table.find(\"tbody\")\n",
        "    rows = tbody.find_all(\"tr\")\n",
        "    for row in rows:\n",
        "      track = row.find(\"td\", class_=\"chart-table-track\")\n",
        "      track_name = track.find(\"strong\").text\n",
        "      artist = track.find(\"span\").text\n",
        "      streams = row.find(\"td\", class_=\"chart-table-streams\").text\n",
        "      results.append({\n",
        "          \"artist\": artist[3:],\n",
        "          \"track name\": track_name,\n",
        "          \"streams\": int(streams.replace(',','')),\n",
        "          \"date\": date\n",
        "      })\n",
        "  return pd.DataFrame.from_records(results)"
      ],
      "metadata": {
        "id": "-FpDIRthE8bR"
      },
      "execution_count": null,
      "outputs": []
    },
    {
      "cell_type": "code",
      "source": [
        "dates = pd.date_range(sdate,edate-timedelta(days=1),freq='d')"
      ],
      "metadata": {
        "id": "LghPoCDcOwGD"
      },
      "execution_count": null,
      "outputs": []
    },
    {
      "cell_type": "code",
      "source": [
        "df = scrap_daily_data(dates)"
      ],
      "metadata": {
        "id": "6wqCqi56INOr"
      },
      "execution_count": null,
      "outputs": []
    },
    {
      "cell_type": "code",
      "source": [
        "df.to_csv(PATH)"
      ],
      "metadata": {
        "id": "1gjhc8d-J7VA"
      },
      "execution_count": null,
      "outputs": []
    },
    {
      "cell_type": "code",
      "source": [
        ""
      ],
      "metadata": {
        "id": "okh5IdzdgZVl"
      },
      "execution_count": null,
      "outputs": []
    }
  ]
}