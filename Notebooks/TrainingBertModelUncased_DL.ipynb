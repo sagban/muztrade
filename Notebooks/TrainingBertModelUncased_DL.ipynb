{
  "cells": [
    {
      "cell_type": "code",
      "execution_count": null,
      "metadata": {
        "id": "B2rkezKWmUz-"
      },
      "outputs": [],
      "source": [
        "import random\n",
        "import re, os\n",
        "import transformers\n",
        "from transformers import BertModel, BertTokenizer, AdamW, get_linear_schedule_with_warmup\n",
        "import torch\n",
        "import numpy as np\n",
        "import pandas as pd\n",
        "import seaborn as sns\n",
        "from pylab import rcParams\n",
        "import matplotlib.pyplot as plt\n",
        "from matplotlib import rc\n",
        "from sklearn.model_selection import train_test_split\n",
        "from sklearn.metrics import confusion_matrix, classification_report\n",
        "from collections import defaultdict\n",
        "from textwrap import wrap\n",
        "from torch import nn, optim\n",
        "from torch.utils.data import Dataset, DataLoader"
      ]
    },
    {
      "cell_type": "code",
      "source": [
        "os.environ[\"PT_HPU_LAZY_MODE\"] = \"1\""
      ],
      "metadata": {
        "id": "_Nyk8PRvbgbf"
      },
      "execution_count": null,
      "outputs": []
    },
    {
      "cell_type": "code",
      "source": [
        "from habana_frameworks.torch.utils.library_loader import load_habana_module\n",
        "load_habana_module()"
      ],
      "metadata": {
        "id": "A_nBTxJebmen"
      },
      "execution_count": null,
      "outputs": []
    },
    {
      "cell_type": "code",
      "execution_count": null,
      "metadata": {
        "id": "ee8O0cUYm8xN"
      },
      "outputs": [],
      "source": [
        "BASE_URL = './'\n",
        "PATH = BASE_URL + 'final-merged-data-50.csv'"
      ]
    },
    {
      "cell_type": "code",
      "source": [
        "RANDOM_SEED = 2\n",
        "np.random.seed(RANDOM_SEED)\n",
        "torch.manual_seed(RANDOM_SEED)"
      ],
      "metadata": {
        "colab": {
          "base_uri": "https://localhost:8080/"
        },
        "id": "tnY_D5TYZI5J",
        "outputId": "c95cb2c9-1d78-4d9b-c35c-80e536c08cf5"
      },
      "execution_count": null,
      "outputs": [
        {
          "output_type": "execute_result",
          "data": {
            "text/plain": [
              "<torch._C.Generator at 0x7f0351859030>"
            ]
          },
          "metadata": {},
          "execution_count": 6
        }
      ]
    },
    {
      "cell_type": "code",
      "source": [
        "device = torch.device(\"hpu\")"
      ],
      "metadata": {
        "id": "ciNJeabRbxrx"
      },
      "execution_count": null,
      "outputs": []
    },
    {
      "cell_type": "code",
      "execution_count": null,
      "metadata": {
        "id": "5zJ9ZkEWnCDq"
      },
      "outputs": [],
      "source": [
        "raw_data_df = pd.read_csv(PATH)"
      ]
    },
    {
      "cell_type": "code",
      "source": [
        "len(raw_data_df['song_id'].drop_duplicates())"
      ],
      "metadata": {
        "colab": {
          "base_uri": "https://localhost:8080/"
        },
        "id": "fEaDifzPRB_w",
        "outputId": "e45b0a75-5328-4fc5-a275-53bc029cedfd"
      },
      "execution_count": null,
      "outputs": [
        {
          "output_type": "execute_result",
          "data": {
            "text/plain": [
              "1364"
            ]
          },
          "metadata": {},
          "execution_count": 9
        }
      ]
    },
    {
      "cell_type": "code",
      "execution_count": null,
      "metadata": {
        "id": "1bSy6mc0uzkg",
        "colab": {
          "base_uri": "https://localhost:8080/"
        },
        "outputId": "3e2df54a-9461-40dd-aca8-7c751234703c"
      },
      "outputs": [
        {
          "output_type": "execute_result",
          "data": {
            "text/plain": [
              "Unnamed: 0    0\n",
              "song_id       0\n",
              "lyrics        0\n",
              "streams       0\n",
              "date          0\n",
              "label         0\n",
              "dtype: int64"
            ]
          },
          "metadata": {},
          "execution_count": 10
        }
      ],
      "source": [
        "raw_data_df.isna().sum()"
      ]
    },
    {
      "cell_type": "code",
      "source": [
        "raw_data_df.head(1000)"
      ],
      "metadata": {
        "colab": {
          "base_uri": "https://localhost:8080/",
          "height": 423
        },
        "id": "nVZOJxQZlApG",
        "outputId": "36c94521-9181-419c-bee0-016832cf450b"
      },
      "execution_count": null,
      "outputs": [
        {
          "output_type": "execute_result",
          "data": {
            "text/html": [
              "\n",
              "  <div id=\"df-5d08d56b-3eaf-4814-8468-af16e89443f4\">\n",
              "    <div class=\"colab-df-container\">\n",
              "      <div>\n",
              "<style scoped>\n",
              "    .dataframe tbody tr th:only-of-type {\n",
              "        vertical-align: middle;\n",
              "    }\n",
              "\n",
              "    .dataframe tbody tr th {\n",
              "        vertical-align: top;\n",
              "    }\n",
              "\n",
              "    .dataframe thead th {\n",
              "        text-align: right;\n",
              "    }\n",
              "</style>\n",
              "<table border=\"1\" class=\"dataframe\">\n",
              "  <thead>\n",
              "    <tr style=\"text-align: right;\">\n",
              "      <th></th>\n",
              "      <th>Unnamed: 0</th>\n",
              "      <th>song_id</th>\n",
              "      <th>lyrics</th>\n",
              "      <th>streams</th>\n",
              "      <th>date</th>\n",
              "      <th>label</th>\n",
              "    </tr>\n",
              "  </thead>\n",
              "  <tbody>\n",
              "    <tr>\n",
              "      <th>0</th>\n",
              "      <td>0</td>\n",
              "      <td>1258</td>\n",
              "      <td>Ayy  I'm tryna put you in the worst mood, ah ...</td>\n",
              "      <td>3342769</td>\n",
              "      <td>2017-01-03</td>\n",
              "      <td>1</td>\n",
              "    </tr>\n",
              "    <tr>\n",
              "      <th>1</th>\n",
              "      <td>1</td>\n",
              "      <td>1218</td>\n",
              "      <td>Hey, I was doing just fine before I met you I...</td>\n",
              "      <td>3019058</td>\n",
              "      <td>2017-01-03</td>\n",
              "      <td>1</td>\n",
              "    </tr>\n",
              "    <tr>\n",
              "      <th>2</th>\n",
              "      <td>2</td>\n",
              "      <td>315</td>\n",
              "      <td>Call it love and devotion Call it a mom's ado...</td>\n",
              "      <td>2726981</td>\n",
              "      <td>2017-01-03</td>\n",
              "      <td>1</td>\n",
              "    </tr>\n",
              "    <tr>\n",
              "      <th>3</th>\n",
              "      <td>3</td>\n",
              "      <td>329</td>\n",
              "      <td>I used to believe We were burnin' on the edge...</td>\n",
              "      <td>2524666</td>\n",
              "      <td>2017-01-03</td>\n",
              "      <td>1</td>\n",
              "    </tr>\n",
              "    <tr>\n",
              "      <th>4</th>\n",
              "      <td>4</td>\n",
              "      <td>886</td>\n",
              "      <td>Oh, hey Oh, oh hey Oh, oh, oh hey Uh oh, uh o...</td>\n",
              "      <td>2362830</td>\n",
              "      <td>2017-01-03</td>\n",
              "      <td>1</td>\n",
              "    </tr>\n",
              "    <tr>\n",
              "      <th>...</th>\n",
              "      <td>...</td>\n",
              "      <td>...</td>\n",
              "      <td>...</td>\n",
              "      <td>...</td>\n",
              "      <td>...</td>\n",
              "      <td>...</td>\n",
              "    </tr>\n",
              "    <tr>\n",
              "      <th>995</th>\n",
              "      <td>3808</td>\n",
              "      <td>43</td>\n",
              "      <td>She just wants to be beautiful She goes unnot...</td>\n",
              "      <td>1116563</td>\n",
              "      <td>2017-01-31</td>\n",
              "      <td>0</td>\n",
              "    </tr>\n",
              "    <tr>\n",
              "      <th>996</th>\n",
              "      <td>3809</td>\n",
              "      <td>605</td>\n",
              "      <td>Let's go out and be wild Do it while we can  ...</td>\n",
              "      <td>1098946</td>\n",
              "      <td>2017-01-31</td>\n",
              "      <td>0</td>\n",
              "    </tr>\n",
              "    <tr>\n",
              "      <th>997</th>\n",
              "      <td>3810</td>\n",
              "      <td>1126</td>\n",
              "      <td>I won't lie to you I know he's just not right...</td>\n",
              "      <td>1088492</td>\n",
              "      <td>2017-01-31</td>\n",
              "      <td>0</td>\n",
              "    </tr>\n",
              "    <tr>\n",
              "      <th>998</th>\n",
              "      <td>3811</td>\n",
              "      <td>50</td>\n",
              "      <td>Listen, man What's up? I heard you done got y...</td>\n",
              "      <td>1079588</td>\n",
              "      <td>2017-01-31</td>\n",
              "      <td>0</td>\n",
              "    </tr>\n",
              "    <tr>\n",
              "      <th>999</th>\n",
              "      <td>3812</td>\n",
              "      <td>1139</td>\n",
              "      <td>You know me Now and then, I'm a mess Please d...</td>\n",
              "      <td>1044256</td>\n",
              "      <td>2017-01-31</td>\n",
              "      <td>0</td>\n",
              "    </tr>\n",
              "  </tbody>\n",
              "</table>\n",
              "<p>1000 rows × 6 columns</p>\n",
              "</div>\n",
              "      <button class=\"colab-df-convert\" onclick=\"convertToInteractive('df-5d08d56b-3eaf-4814-8468-af16e89443f4')\"\n",
              "              title=\"Convert this dataframe to an interactive table.\"\n",
              "              style=\"display:none;\">\n",
              "        \n",
              "  <svg xmlns=\"http://www.w3.org/2000/svg\" height=\"24px\"viewBox=\"0 0 24 24\"\n",
              "       width=\"24px\">\n",
              "    <path d=\"M0 0h24v24H0V0z\" fill=\"none\"/>\n",
              "    <path d=\"M18.56 5.44l.94 2.06.94-2.06 2.06-.94-2.06-.94-.94-2.06-.94 2.06-2.06.94zm-11 1L8.5 8.5l.94-2.06 2.06-.94-2.06-.94L8.5 2.5l-.94 2.06-2.06.94zm10 10l.94 2.06.94-2.06 2.06-.94-2.06-.94-.94-2.06-.94 2.06-2.06.94z\"/><path d=\"M17.41 7.96l-1.37-1.37c-.4-.4-.92-.59-1.43-.59-.52 0-1.04.2-1.43.59L10.3 9.45l-7.72 7.72c-.78.78-.78 2.05 0 2.83L4 21.41c.39.39.9.59 1.41.59.51 0 1.02-.2 1.41-.59l7.78-7.78 2.81-2.81c.8-.78.8-2.07 0-2.86zM5.41 20L4 18.59l7.72-7.72 1.47 1.35L5.41 20z\"/>\n",
              "  </svg>\n",
              "      </button>\n",
              "      \n",
              "  <style>\n",
              "    .colab-df-container {\n",
              "      display:flex;\n",
              "      flex-wrap:wrap;\n",
              "      gap: 12px;\n",
              "    }\n",
              "\n",
              "    .colab-df-convert {\n",
              "      background-color: #E8F0FE;\n",
              "      border: none;\n",
              "      border-radius: 50%;\n",
              "      cursor: pointer;\n",
              "      display: none;\n",
              "      fill: #1967D2;\n",
              "      height: 32px;\n",
              "      padding: 0 0 0 0;\n",
              "      width: 32px;\n",
              "    }\n",
              "\n",
              "    .colab-df-convert:hover {\n",
              "      background-color: #E2EBFA;\n",
              "      box-shadow: 0px 1px 2px rgba(60, 64, 67, 0.3), 0px 1px 3px 1px rgba(60, 64, 67, 0.15);\n",
              "      fill: #174EA6;\n",
              "    }\n",
              "\n",
              "    [theme=dark] .colab-df-convert {\n",
              "      background-color: #3B4455;\n",
              "      fill: #D2E3FC;\n",
              "    }\n",
              "\n",
              "    [theme=dark] .colab-df-convert:hover {\n",
              "      background-color: #434B5C;\n",
              "      box-shadow: 0px 1px 3px 1px rgba(0, 0, 0, 0.15);\n",
              "      filter: drop-shadow(0px 1px 2px rgba(0, 0, 0, 0.3));\n",
              "      fill: #FFFFFF;\n",
              "    }\n",
              "  </style>\n",
              "\n",
              "      <script>\n",
              "        const buttonEl =\n",
              "          document.querySelector('#df-5d08d56b-3eaf-4814-8468-af16e89443f4 button.colab-df-convert');\n",
              "        buttonEl.style.display =\n",
              "          google.colab.kernel.accessAllowed ? 'block' : 'none';\n",
              "\n",
              "        async function convertToInteractive(key) {\n",
              "          const element = document.querySelector('#df-5d08d56b-3eaf-4814-8468-af16e89443f4');\n",
              "          const dataTable =\n",
              "            await google.colab.kernel.invokeFunction('convertToInteractive',\n",
              "                                                     [key], {});\n",
              "          if (!dataTable) return;\n",
              "\n",
              "          const docLinkHtml = 'Like what you see? Visit the ' +\n",
              "            '<a target=\"_blank\" href=https://colab.research.google.com/notebooks/data_table.ipynb>data table notebook</a>'\n",
              "            + ' to learn more about interactive tables.';\n",
              "          element.innerHTML = '';\n",
              "          dataTable['output_type'] = 'display_data';\n",
              "          await google.colab.output.renderOutput(dataTable, element);\n",
              "          const docLink = document.createElement('div');\n",
              "          docLink.innerHTML = docLinkHtml;\n",
              "          element.appendChild(docLink);\n",
              "        }\n",
              "      </script>\n",
              "    </div>\n",
              "  </div>\n",
              "  "
            ],
            "text/plain": [
              "     Unnamed: 0  song_id  ...        date  label\n",
              "0             0     1258  ...  2017-01-03      1\n",
              "1             1     1218  ...  2017-01-03      1\n",
              "2             2      315  ...  2017-01-03      1\n",
              "3             3      329  ...  2017-01-03      1\n",
              "4             4      886  ...  2017-01-03      1\n",
              "..          ...      ...  ...         ...    ...\n",
              "995        3808       43  ...  2017-01-31      0\n",
              "996        3809      605  ...  2017-01-31      0\n",
              "997        3810     1126  ...  2017-01-31      0\n",
              "998        3811       50  ...  2017-01-31      0\n",
              "999        3812     1139  ...  2017-01-31      0\n",
              "\n",
              "[1000 rows x 6 columns]"
            ]
          },
          "metadata": {},
          "execution_count": 11
        }
      ]
    },
    {
      "cell_type": "code",
      "source": [
        "data_df = raw_data_df"
      ],
      "metadata": {
        "id": "yXROqYzFiTGr"
      },
      "execution_count": null,
      "outputs": []
    },
    {
      "cell_type": "code",
      "execution_count": null,
      "metadata": {
        "id": "Vqm9mNjjoVMy"
      },
      "outputs": [],
      "source": [
        "# Cast the numerical features to floats.\n",
        "data_df['streams'] = data_df['streams'].astype('int32')"
      ]
    },
    {
      "cell_type": "code",
      "source": [
        "data_df.info()"
      ],
      "metadata": {
        "colab": {
          "base_uri": "https://localhost:8080/"
        },
        "id": "B3M6MJVvZmRP",
        "outputId": "ff3973df-6693-4d0b-d5da-41de9434aeb5"
      },
      "execution_count": null,
      "outputs": [
        {
          "output_type": "stream",
          "name": "stdout",
          "text": [
            "<class 'pandas.core.frame.DataFrame'>\n",
            "RangeIndex: 55250 entries, 0 to 55249\n",
            "Data columns (total 6 columns):\n",
            " #   Column      Non-Null Count  Dtype \n",
            "---  ------      --------------  ----- \n",
            " 0   Unnamed: 0  55250 non-null  int64 \n",
            " 1   song_id     55250 non-null  int64 \n",
            " 2   lyrics      55250 non-null  object\n",
            " 3   streams     55250 non-null  int32 \n",
            " 4   date        55250 non-null  object\n",
            " 5   label       55250 non-null  int64 \n",
            "dtypes: int32(1), int64(3), object(2)\n",
            "memory usage: 2.3+ MB\n"
          ]
        }
      ]
    },
    {
      "cell_type": "code",
      "source": [
        "class_names = ['bearish', 'bullish']"
      ],
      "metadata": {
        "id": "h3SAvKQGa1QK"
      },
      "execution_count": null,
      "outputs": []
    },
    {
      "cell_type": "code",
      "source": [
        "ax = sns.countplot(data_df.label)\n",
        "plt.xlabel('market sentiment')\n",
        "ax.set_xticklabels(class_names)"
      ],
      "metadata": {
        "colab": {
          "base_uri": "https://localhost:8080/",
          "height": 351
        },
        "id": "m36mOO9tbBDo",
        "outputId": "921f8bae-cf59-45ec-b7fa-74f81906a39c"
      },
      "execution_count": null,
      "outputs": [
        {
          "output_type": "stream",
          "name": "stderr",
          "text": [
            "/usr/local/lib/python3.7/dist-packages/seaborn/_decorators.py:43: FutureWarning: Pass the following variable as a keyword arg: x. From version 0.12, the only valid positional argument will be `data`, and passing other arguments without an explicit keyword will result in an error or misinterpretation.\n",
            "  FutureWarning\n"
          ]
        },
        {
          "output_type": "execute_result",
          "data": {
            "text/plain": [
              "[Text(0, 0, 'bearish'), Text(0, 0, 'bullish')]"
            ]
          },
          "metadata": {},
          "execution_count": 16
        },
        {
          "output_type": "display_data",
          "data": {
            "image/png": "[encoded data removed]",
            "text/plain": [
              "<Figure size 432x288 with 1 Axes>"
            ]
          },
          "metadata": {
            "needs_background": "light"
          }
        }
      ]
    },
    {
      "cell_type": "code",
      "execution_count": null,
      "metadata": {
        "id": "5TPsW7Kjsda7"
      },
      "outputs": [],
      "source": [
        "PRE_TRAINED_MODEL_NAME = 'bert-base-uncased'"
      ]
    },
    {
      "cell_type": "code",
      "execution_count": null,
      "metadata": {
        "colab": {
          "base_uri": "https://localhost:8080/"
        },
        "id": "R3R8ea2GrzUp",
        "outputId": "f8b9c465-245b-4a2f-aace-d0345d42136b"
      },
      "outputs": [
        {
          "output_type": "stream",
          "name": "stdout",
          "text": [
            "Loading BERT tokenizer...\n"
          ]
        }
      ],
      "source": [
        "# Load the BERT tokenizer.\n",
        "print('Loading BERT tokenizer...')\n",
        "tokenizer = BertTokenizer.from_pretrained(PRE_TRAINED_MODEL_NAME, do_lower_case=True)"
      ]
    },
    {
      "cell_type": "code",
      "execution_count": null,
      "metadata": {
        "colab": {
          "base_uri": "https://localhost:8080/"
        },
        "id": "SPmX-6e0snOh",
        "outputId": "4cae9f80-cdd2-40e5-f1ec-48c9229ba6c5"
      },
      "outputs": [
        {
          "output_type": "stream",
          "name": "stderr",
          "text": [
            "Token indices sequence length is longer than the specified maximum sequence length for this model (642 > 512). Running this sequence through the model will result in indexing errors\n"
          ]
        },
        {
          "output_type": "stream",
          "name": "stdout",
          "text": [
            "Max sentence length:  1918\n",
            "Avg Length:  580.1852986217458\n",
            "50th Percentile 537.5\n",
            "90th Percentile 899.0\n"
          ]
        }
      ],
      "source": [
        "# Check for the max len of token through out the dataset\n",
        "sen_w_feats = data_df['lyrics'].drop_duplicates()\n",
        "max_len = 0\n",
        "size = []\n",
        "# For every sentence...\n",
        "for sent in sen_w_feats:\n",
        "    if sent != None or sent != '':\n",
        "      # Tokenize the text and add `[CLS]` and `[SEP]` tokens.\n",
        "      input_ids = tokenizer.encode(sent, add_special_tokens=True)\n",
        "      size.append(len(input_ids))\n",
        "      # Update the maximum sentence length.\n",
        "      max_len = max(max_len, len(input_ids))\n",
        "\n",
        "print('Max sentence length: ', max_len)\n",
        "print('Avg Length: ', sum(size)/len(size))\n",
        "print('50th Percentile', np.percentile(size, 50))\n",
        "print('90th Percentile', np.percentile(size, 90))"
      ]
    },
    {
      "cell_type": "code",
      "source": [
        "sns.distplot(size)\n",
        "plt.xlim([0, max_len]);\n",
        "plt.xlabel('Token count');"
      ],
      "metadata": {
        "colab": {
          "base_uri": "https://localhost:8080/",
          "height": 334
        },
        "id": "516D3RwPeFjv",
        "outputId": "02b2f10a-76ea-45d0-c845-90b3016b0738"
      },
      "execution_count": null,
      "outputs": [
        {
          "output_type": "stream",
          "name": "stderr",
          "text": [
            "/usr/local/lib/python3.7/dist-packages/seaborn/distributions.py:2619: FutureWarning: `distplot` is a deprecated function and will be removed in a future version. Please adapt your code to use either `displot` (a figure-level function with similar flexibility) or `histplot` (an axes-level function for histograms).\n",
            "  warnings.warn(msg, FutureWarning)\n"
          ]
        },
        {
          "output_type": "display_data",
          "data": {
            "image/png": "[encoded data removed]",
            "text/plain": [
              "<Figure size 432x288 with 1 Axes>"
            ]
          },
          "metadata": {
            "needs_background": "light"
          }
        }
      ]
    },
    {
      "cell_type": "markdown",
      "source": [
        "Train Test Val Split"
      ],
      "metadata": {
        "id": "px4aACqpuB2u"
      }
    },
    {
      "cell_type": "code",
      "source": [
        "# Larger batch sizes tend to be better, and we can fit this in memory.\n",
        "BATCH_SIZE = 32\n",
        "\n",
        "# I used a smaller learning rate to combat over-fitting that I was seeing in the\n",
        "# validation loss. I could probably try even smaller.\n",
        "LR = 2e-5\n",
        "\n",
        "# Number of training epochs. \n",
        "EPOCHS = 6\n",
        "MAX_LEN = 250\n",
        "TRAIN_TEST_SPLIT = 0.3\n",
        "TEST_VAL_SPLIT = 0.1\n",
        "N_CLASSES = 2"
      ],
      "metadata": {
        "id": "REIthx6UekOt"
      },
      "execution_count": null,
      "outputs": []
    },
    {
      "cell_type": "code",
      "source": [
        "def group_array(data_df, column):\n",
        "  gb = data_df.groupby([column])\n",
        "  return [gb.get_group(x) for x in gb.groups]"
      ],
      "metadata": {
        "id": "bcgvbZVnIkbC"
      },
      "execution_count": null,
      "outputs": []
    },
    {
      "cell_type": "code",
      "source": [
        "group_arr = group_array(data_df, 'date')"
      ],
      "metadata": {
        "id": "F5vcIFVKooKc"
      },
      "execution_count": null,
      "outputs": []
    },
    {
      "cell_type": "code",
      "source": [
        "dataset = np.array([np.array(x) for x in group_arr])"
      ],
      "metadata": {
        "id": "CZ7gQJ5Zqya8"
      },
      "execution_count": null,
      "outputs": []
    },
    {
      "cell_type": "code",
      "source": [
        "dataset_train, dataset_test = train_test_split(\n",
        "  dataset,\n",
        "  test_size=TRAIN_TEST_SPLIT,\n",
        "  random_state=RANDOM_SEED\n",
        ")"
      ],
      "metadata": {
        "id": "g0OkOfXHroNR"
      },
      "execution_count": null,
      "outputs": []
    },
    {
      "cell_type": "code",
      "source": [
        "dataset_test, dataset_val = train_test_split(\n",
        "  dataset_test,\n",
        "  test_size=TEST_VAL_SPLIT,\n",
        "  random_state=RANDOM_SEED\n",
        ")"
      ],
      "metadata": {
        "id": "JsfsvEMZspwR"
      },
      "execution_count": null,
      "outputs": []
    },
    {
      "cell_type": "code",
      "source": [
        "print(\"Shape of the Training Dataset\", dataset_train.shape)\n",
        "print(\"Shape of the Test Dataset\", dataset_test.shape)\n",
        "print(\"Shape of the Validation Dataset\", dataset_val.shape)"
      ],
      "metadata": {
        "colab": {
          "base_uri": "https://localhost:8080/"
        },
        "id": "qOanxsvW35Dn",
        "outputId": "a2073674-a386-4930-8373-61f27e19a526"
      },
      "execution_count": null,
      "outputs": [
        {
          "output_type": "stream",
          "name": "stdout",
          "text": [
            "Shape of the Training Dataset (773, 50, 6)\n",
            "Shape of the Test Dataset (298, 50, 6)\n",
            "Shape of the Validation Dataset (34, 50, 6)\n"
          ]
        }
      ]
    },
    {
      "cell_type": "code",
      "source": [
        "def middle_list(sentences, min_lenght):\n",
        "  length = len(sentences)\n",
        "  if length > min_lenght:\n",
        "    half = length / 2\n",
        "    half = int(half)\n",
        "    quad = half / 2\n",
        "    quad = int(quad)\n",
        "    sentences = sentences[quad:quad+half]\n",
        "  return sentences\n"
      ],
      "metadata": {
        "id": "RwO-Yskwj1I6"
      },
      "execution_count": null,
      "outputs": []
    },
    {
      "cell_type": "code",
      "source": [
        "def preprocess_lyrics(text):\n",
        "  sentences = list(set(re.split(\"  +\", text)))\n",
        "  sentences = middle_list(sentences, 10)\n",
        "  text_new = \". \".join(sentences)\n",
        "  sentences = list(re.split(\" +\", text))\n",
        "  sentences = middle_list(sentences, 200)\n",
        "  return \" \".join(sentences)"
      ],
      "metadata": {
        "id": "wiZ3Ib7pamZT"
      },
      "execution_count": null,
      "outputs": []
    },
    {
      "cell_type": "code",
      "source": [
        "class LyricsDataset(Dataset):\n",
        "\n",
        "  def __init__(self, dataset, max_len, tokenizer):\n",
        "    self.dataset = dataset[:, :, 1:]\n",
        "    self.tokenizer = tokenizer\n",
        "    self.max_len = max_len\n",
        "  \n",
        "  def __len__(self):\n",
        "    return len(self.dataset)\n",
        "  \n",
        "  def __getitem__(self, item):\n",
        "    idata = self.dataset[item]\n",
        "    target = idata[:,-1].max()\n",
        "    sen_w_feats = idata[:, 1]\n",
        "    input_ids = []\n",
        "    attention_masks = []\n",
        "    for sent in sen_w_feats:\n",
        "      sent = preprocess_lyrics(sent)\n",
        "      # `encode_plus` will:\n",
        "      #   (1) Tokenize the sentence.\n",
        "      #   (2) Prepend the `[CLS]` token to the start.\n",
        "      #   (3) Append the `[SEP]` token to the end.\n",
        "      #   (4) Map tokens to their IDs.\n",
        "      #   (5) Pad or truncate the sentence to `max_length`\n",
        "      #   (6) Create attention masks for [PAD] tokens.\n",
        "      encoded_dict = tokenizer.encode_plus(\n",
        "                          sent,                      # Sentence to encode.\n",
        "                          add_special_tokens = True, # Add '[CLS]' and '[SEP]'\n",
        "                          max_length = self.max_len,           # Pad & truncate all sentences.\n",
        "                          truncation = True,\n",
        "                          padding = 'max_length',\n",
        "                          return_attention_mask = True,   # Construct attn. masks.\n",
        "                          return_tensors = 'pt',     # Return pytorch tensors.\n",
        "                  )\n",
        "          # Add the encoded sentence to the list.    \n",
        "      input_ids.append(encoded_dict['input_ids'])\n",
        "      \n",
        "      # And its attention mask (simply differentiates padding from non-padding).\n",
        "      attention_masks.append(encoded_dict['attention_mask'])\n",
        "    \n",
        "    input_ids = torch.stack(input_ids)\n",
        "    input_ids_shape = input_ids.size()\n",
        "    input_ids = torch.reshape(input_ids, (input_ids_shape[0], input_ids_shape[2]))\n",
        "    attention_masks = torch.stack(attention_masks)\n",
        "    attention_masks_shape = attention_masks.size()\n",
        "    attention_masks = torch.reshape(attention_masks, (attention_masks_shape[0], attention_masks_shape[2]))\n",
        "    return {\n",
        "        \"input_ids\":input_ids,\n",
        "        \"attention_mask\":attention_masks,\n",
        "        \"streams\": torch.from_numpy(idata[:,2].astype('int64')),\n",
        "        \"targets\": torch.tensor(target, dtype=torch.long)\n",
        "    }\n"
      ],
      "metadata": {
        "id": "YY6op-uvPKJW"
      },
      "execution_count": null,
      "outputs": []
    },
    {
      "cell_type": "code",
      "source": [
        "def create_data_loader(dataset, tokenizer, max_len, batch_size):\n",
        "  ds = LyricsDataset(\n",
        "    dataset=dataset,\n",
        "    tokenizer=tokenizer,\n",
        "    max_len=max_len\n",
        "  )\n",
        "  return DataLoader(\n",
        "    ds,\n",
        "    batch_size=batch_size,\n",
        "    num_workers=2\n",
        "  )"
      ],
      "metadata": {
        "id": "5o-VSBuFgfqS"
      },
      "execution_count": null,
      "outputs": []
    },
    {
      "cell_type": "code",
      "source": [
        "train_data_loader = create_data_loader(dataset_train, tokenizer, MAX_LEN, BATCH_SIZE)\n",
        "test_data_loader = create_data_loader(dataset_test, tokenizer, MAX_LEN, BATCH_SIZE)\n",
        "val_data_loader = create_data_loader(dataset_val, tokenizer, MAX_LEN, BATCH_SIZE)"
      ],
      "metadata": {
        "id": "-pMhJSrlhOa8"
      },
      "execution_count": null,
      "outputs": []
    },
    {
      "cell_type": "code",
      "source": [
        "data = next(iter(train_data_loader))"
      ],
      "metadata": {
        "id": "xneXqss_hz1l"
      },
      "execution_count": null,
      "outputs": []
    },
    {
      "cell_type": "code",
      "source": [
        "data.keys()"
      ],
      "metadata": {
        "colab": {
          "base_uri": "https://localhost:8080/"
        },
        "id": "CEc-Zhnat8GB",
        "outputId": "0631f991-649a-4911-caf8-0f1cef7d3fc1"
      },
      "execution_count": null,
      "outputs": [
        {
          "output_type": "execute_result",
          "data": {
            "text/plain": [
              "dict_keys(['input_ids', 'attention_mask', 'streams', 'targets'])"
            ]
          },
          "metadata": {},
          "execution_count": 35
        }
      ]
    },
    {
      "cell_type": "code",
      "source": [
        "print(data['input_ids'].shape)\n",
        "print(data['streams'].shape)\n",
        "print(data['attention_mask'].shape)\n",
        "print(data['targets'].shape)"
      ],
      "metadata": {
        "colab": {
          "base_uri": "https://localhost:8080/"
        },
        "id": "embV-p6qt--F",
        "outputId": "23e2e116-3538-426b-e4d1-1dde5bef5127"
      },
      "execution_count": null,
      "outputs": [
        {
          "output_type": "stream",
          "name": "stdout",
          "text": [
            "torch.Size([16, 50, 10])\n",
            "torch.Size([16, 50])\n",
            "torch.Size([16, 50, 10])\n",
            "torch.Size([16])\n"
          ]
        }
      ]
    },
    {
      "cell_type": "code",
      "source": [
        "# Mapping Layer that maps songs to the mapping table\n",
        "class MappingLayer(nn.Module):\n",
        "  def __init__(self, group_column='date'):\n",
        "    super(MappingLayer, self).__init__()\n",
        "  \n",
        "  def forward(self, bert_output, streams):\n",
        "    out = bert_output * streams.unsqueeze(-1)\n",
        "    return out.mean(dim=1)"
      ],
      "metadata": {
        "id": "s-TO6JNl5H2h"
      },
      "execution_count": null,
      "outputs": []
    },
    {
      "cell_type": "code",
      "source": [
        "# Lyrics Sentiment Classifier uses BERT MODEL and Linear Classifier\n",
        "class LyricsSentimentClassifier(nn.Module):\n",
        "  def __init__(self, n_classes):\n",
        "    super(LyricsSentimentClassifier, self).__init__()\n",
        "    self.bert = BertModel.from_pretrained(PRE_TRAINED_MODEL_NAME)\n",
        "    self.dropout = nn.Dropout(p=0.1)\n",
        "    self.mapping = MappingLayer()\n",
        "    self.linear = nn.Linear(self.bert.config.hidden_size, 256)\n",
        "    self.hidden = nn.Linear(256, n_classes)\n",
        "    self.sigmoid = nn.Sigmoid()\n",
        "    self.softmax = nn.Softmax(dim=1)\n",
        "\n",
        "  def forward(self, input_ids, attention_mask, streams):\n",
        "    base_model_output = self.bert(\n",
        "      input_ids=input_ids, attention_mask=attention_mask\n",
        "    )\n",
        "    pooler_output = base_model_output.pooler_output\n",
        "    bert_output = self.dropout(pooler_output)\n",
        "    x_dim = bert_output.shape[0]/50\n",
        "    x = bert_output.reshape(int(x_dim), 50, self.bert.config.hidden_size)\n",
        "    x = self.mapping(x, streams)\n",
        "    x = self.linear(x)\n",
        "    x = self.hidden(x)\n",
        "    x = self.sigmoid(x)\n",
        "    return self.softmax(x)"
      ],
      "metadata": {
        "id": "dFEqaxSYrMGQ"
      },
      "execution_count": null,
      "outputs": []
    },
    {
      "cell_type": "code",
      "source": [
        "model = LyricsSentimentClassifier(N_CLASSES)"
      ],
      "metadata": {
        "colab": {
          "base_uri": "https://localhost:8080/"
        },
        "id": "Mq6xMSVL9jLp",
        "outputId": "fa040451-e246-4ac7-d80c-d68ee3e0941d"
      },
      "execution_count": null,
      "outputs": [
        {
          "output_type": "stream",
          "name": "stderr",
          "text": [
            "Some weights of the model checkpoint at bert-base-uncased were not used when initializing BertModel: ['cls.predictions.transform.LayerNorm.weight', 'cls.predictions.transform.dense.bias', 'cls.predictions.transform.dense.weight', 'cls.seq_relationship.weight', 'cls.predictions.transform.LayerNorm.bias', 'cls.predictions.bias', 'cls.seq_relationship.bias', 'cls.predictions.decoder.weight']\n",
            "- This IS expected if you are initializing BertModel from the checkpoint of a model trained on another task or with another architecture (e.g. initializing a BertForSequenceClassification model from a BertForPreTraining model).\n",
            "- This IS NOT expected if you are initializing BertModel from the checkpoint of a model that you expect to be exactly identical (initializing a BertForSequenceClassification model from a BertForSequenceClassification model).\n"
          ]
        }
      ]
    },
    {
      "cell_type": "code",
      "source": [
        "optimizer = AdamW(model.parameters(), lr=LR, correct_bias=False)\n",
        "total_steps =  EPOCHS * BATCH_SIZE\n",
        "scheduler = get_linear_schedule_with_warmup(\n",
        "  optimizer,\n",
        "  num_warmup_steps=2,\n",
        "  num_training_steps=total_steps\n",
        ")\n",
        "loss_fn = nn.CrossEntropyLoss().to(device)"
      ],
      "metadata": {
        "colab": {
          "base_uri": "https://localhost:8080/"
        },
        "id": "sDBJ-CRq9XcK",
        "outputId": "ec7545ab-ec81-4ca8-8971-407bc9ae6414"
      },
      "execution_count": null,
      "outputs": [
        {
          "output_type": "stream",
          "name": "stderr",
          "text": [
            "/usr/local/lib/python3.7/dist-packages/transformers/optimization.py:309: FutureWarning: This implementation of AdamW is deprecated and will be removed in a future version. Use thePyTorch implementation torch.optim.AdamW instead, or set `no_deprecation_warning=True` to disable this warning\n",
            "  FutureWarning,\n"
          ]
        }
      ]
    },
    {
      "cell_type": "code",
      "source": [
        "def train_epoch(\n",
        "  model,\n",
        "  data_loader,\n",
        "  loss_fn,\n",
        "  optimizer,\n",
        "  device,\n",
        "  scheduler,\n",
        "  n_examples\n",
        "):\n",
        "  model = model.train()\n",
        "  losses = []\n",
        "  correct_predictions = 0\n",
        "  for d in data_loader:\n",
        "    # Unpack the inputs\n",
        "    input_ids = d[\"input_ids\"]\n",
        "    attention_mask = d[\"attention_mask\"]\n",
        "    input_ids = input_ids.reshape(input_ids.shape[0]*input_ids.shape[1], input_ids.shape[2])\n",
        "    attention_mask = attention_mask.reshape(attention_mask.shape[0]*attention_mask.shape[1], attention_mask.shape[2])\n",
        "    input_ids = input_ids.to(device)\n",
        "    attention_mask = attention_mask.to(device)\n",
        "    streams = d['streams'].to(device)\n",
        "    targets = d[\"targets\"].to(device)\n",
        "    outputs = model(\n",
        "      input_ids=input_ids,\n",
        "      attention_mask=attention_mask,\n",
        "      streams=streams\n",
        "    )\n",
        "    _, preds = torch.max(outputs, dim=1)\n",
        "    loss = loss_fn(outputs, targets)\n",
        "    correct_predictions += torch.sum(preds == targets)\n",
        "    losses.append(loss.item())\n",
        "    loss.backward()\n",
        "    nn.utils.clip_grad_norm_(model.parameters(), max_norm=1.0)\n",
        "    optimizer.step()\n",
        "    scheduler.step()\n",
        "    optimizer.zero_grad()\n",
        "  return correct_predictions.double() / n_examples, np.mean(losses)"
      ],
      "metadata": {
        "id": "4k_tQVKtkQsD"
      },
      "execution_count": null,
      "outputs": []
    },
    {
      "cell_type": "markdown",
      "source": [
        "Evaluation"
      ],
      "metadata": {
        "id": "nP-vggu8lixe"
      }
    },
    {
      "cell_type": "code",
      "source": [
        "def eval_model(model, data_loader, loss_fn, device, n_examples):\n",
        "  model = model.eval()\n",
        "  losses = []\n",
        "  correct_predictions = 0\n",
        "  with torch.no_grad():\n",
        "    for d in data_loader:\n",
        "      # Unpack the inputs\n",
        "      input_ids = d[\"input_ids\"]\n",
        "      attention_mask = d[\"attention_mask\"]\n",
        "      input_ids = input_ids.reshape(input_ids.shape[0]*input_ids.shape[1], input_ids.shape[2])\n",
        "      attention_mask = attention_mask.reshape(attention_mask.shape[0]*attention_mask.shape[1], attention_mask.shape[2])\n",
        "      input_ids = input_ids.to(device)\n",
        "      attention_mask = attention_mask.to(device)\n",
        "      streams = d['streams'].to(device)\n",
        "      targets = d[\"targets\"].to(device)\n",
        "      outputs = model(\n",
        "        input_ids=input_ids,\n",
        "        attention_mask=attention_mask,\n",
        "        streams=streams\n",
        "      )\n",
        "      _, preds = torch.max(outputs, dim=1)\n",
        "      loss = loss_fn(outputs, targets)\n",
        "      correct_predictions += torch.sum(preds == targets)\n",
        "      losses.append(loss.item())\n",
        "  return correct_predictions.double() / n_examples, np.mean(losses)"
      ],
      "metadata": {
        "id": "3HGZwA1owuxX"
      },
      "execution_count": null,
      "outputs": []
    },
    {
      "cell_type": "code",
      "source": [
        "%%time\n",
        "history = defaultdict(list)\n",
        "best_accuracy = 0\n",
        "for epoch in range(EPOCHS):\n",
        "  print(f'Epoch {epoch + 1}/{EPOCHS}')\n",
        "  print('-' * 50)\n",
        "  train_acc, train_loss = train_epoch(\n",
        "    model,\n",
        "    train_data_loader,\n",
        "    loss_fn,\n",
        "    optimizer,\n",
        "    device,\n",
        "    scheduler,\n",
        "    len(dataset_train)\n",
        "  )\n",
        "  print(f'Train loss {train_loss} accuracy {train_acc}')\n",
        "  val_acc, val_loss = eval_model(\n",
        "    model,\n",
        "    test_data_loader,\n",
        "    loss_fn,\n",
        "    device,\n",
        "    len(dataset_test)\n",
        "  )\n",
        "  print(f'Val   loss {val_loss} accuracy {val_acc}')\n",
        "  print()\n",
        "  history['train_acc'].append(train_acc)\n",
        "  history['train_loss'].append(train_loss)\n",
        "  history['val_acc'].append(val_acc)\n",
        "  history['val_loss'].append(val_loss)\n",
        "  if val_acc > best_accuracy:\n",
        "    model.to(\"cpu\")\n",
        "    torch.save(model.state_dict(), 'best_model_state.bin')\n",
        "    model.to(device)\n",
        "    best_accuracy = val_acc"
      ],
      "metadata": {
        "id": "Dorzd365cF8z"
      },
      "execution_count": null,
      "outputs": []
    },
    {
      "cell_type": "code",
      "source": [
        "plt.plot(history['train_acc'], label='train accuracy')\n",
        "plt.plot(history['val_acc'], label='validation accuracy')\n",
        "plt.title('Training history')\n",
        "plt.ylabel('Accuracy')\n",
        "plt.xlabel('Epoch')\n",
        "plt.legend()\n",
        "plt.ylim([0, 1]);"
      ],
      "metadata": {
        "id": "N0lT5Jr6cKTP"
      },
      "execution_count": null,
      "outputs": []
    },
    {
      "cell_type": "code",
      "source": [
        "plt.plot(history['train_loss'])"
      ],
      "metadata": {
        "id": "DGOMArKMcMfk"
      },
      "execution_count": null,
      "outputs": []
    },
    {
      "cell_type": "markdown",
      "source": [
        "Loading Models & Validation"
      ],
      "metadata": {
        "id": "B_ji2gBDfmH9"
      }
    },
    {
      "cell_type": "code",
      "source": [
        "model = LyricsSentimentClassifier(N_CLASSES)\n",
        "model.load_state_dict(torch.load(\"best_model_state.bin\"))"
      ],
      "metadata": {
        "id": "f_kBEv-RgEhg",
        "colab": {
          "base_uri": "https://localhost:8080/"
        },
        "outputId": "ce63ec34-77cc-4191-d3ff-8187440aa683"
      },
      "execution_count": null,
      "outputs": [
        {
          "output_type": "stream",
          "name": "stderr",
          "text": [
            "Some weights of the model checkpoint at bert-base-uncased were not used when initializing BertModel: ['cls.predictions.transform.LayerNorm.weight', 'cls.predictions.transform.dense.bias', 'cls.predictions.transform.dense.weight', 'cls.seq_relationship.weight', 'cls.predictions.transform.LayerNorm.bias', 'cls.predictions.bias', 'cls.seq_relationship.bias', 'cls.predictions.decoder.weight']\n",
            "- This IS expected if you are initializing BertModel from the checkpoint of a model trained on another task or with another architecture (e.g. initializing a BertForSequenceClassification model from a BertForPreTraining model).\n",
            "- This IS NOT expected if you are initializing BertModel from the checkpoint of a model that you expect to be exactly identical (initializing a BertForSequenceClassification model from a BertForSequenceClassification model).\n"
          ]
        },
        {
          "output_type": "execute_result",
          "data": {
            "text/plain": [
              "<All keys matched successfully>"
            ]
          },
          "metadata": {},
          "execution_count": 46
        }
      ]
    },
    {
      "cell_type": "code",
      "source": [
        "# model.eval()"
      ],
      "metadata": {
        "id": "MB2mssgWfkVk"
      },
      "execution_count": null,
      "outputs": []
    },
    {
      "cell_type": "code",
      "source": [
        "with torch.no_grad():\n",
        "  n_examples = len(dataset_val)\n",
        "  for d in val_data_loader:\n",
        "    # Unpack the inputs\n",
        "    input_ids = d[\"input_ids\"]\n",
        "    attention_mask = d[\"attention_mask\"]\n",
        "    input_ids = input_ids.reshape(input_ids.shape[0]*input_ids.shape[1], input_ids.shape[2])\n",
        "    attention_mask = attention_mask.reshape(attention_mask.shape[0]*attention_mask.shape[1], attention_mask.shape[2])\n",
        "    input_ids = input_ids.to(device)\n",
        "    attention_mask = attention_mask.to(device)\n",
        "    streams = d['streams'].to(device)\n",
        "    targets = d[\"targets\"].to(device)\n",
        "    outputs = model(\n",
        "      input_ids=input_ids,\n",
        "      attention_mask=attention_mask,\n",
        "      streams=streams\n",
        "    )\n",
        "    _, preds = torch.max(outputs, dim=1)\n",
        "\n",
        "val_acc = preds.eq(targets).sum()/len(targets) * 100\n",
        "print(\"Accuracy on the validation data: \", val_acc)"
      ],
      "metadata": {
        "id": "CU4mPommfw7-",
        "colab": {
          "base_uri": "https://localhost:8080/"
        },
        "outputId": "b79de713-3a56-44c2-ce4b-193219b373eb"
      },
      "execution_count": null,
      "outputs": [
        {
          "output_type": "stream",
          "name": "stdout",
          "text": [
            "Accuracy on the validation data:  tensor(50.)\n"
          ]
        }
      ]
    }
  ],
  "metadata": {
    "colab": {
      "collapsed_sections": [],
      "name": "TrainingBertModelUncased-DL.ipynb",
      "provenance": []
    },
    "kernelspec": {
      "display_name": "Python 3",
      "name": "python3"
    },
    "language_info": {
      "name": "python"
    }
  },
  "nbformat": 4,
  "nbformat_minor": 0
}