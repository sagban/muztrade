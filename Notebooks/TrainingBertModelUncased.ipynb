{
  "cells": [
    {
      "cell_type": "code",
      "source": [
        "# !pip freeze"
      ],
      "metadata": {
        "id": "AOmJSCQeyp_t"
      },
      "execution_count": null,
      "outputs": []
    },
    {
      "cell_type": "code",
      "execution_count": null,
      "metadata": {
        "id": "HbsDdJWSnHv9"
      },
      "outputs": [],
      "source": [
        "# from google.colab import drive\n",
        "# drive.mount('/content/drive')"
      ]
    },
    {
      "cell_type": "code",
      "execution_count": null,
      "metadata": {
        "id": "LOUR284RrwNA"
      },
      "outputs": [],
      "source": [
        "# !pip install transformers\n",
        "# !pip install torch-lr-finder"
      ]
    },
    {
      "cell_type": "code",
      "execution_count": null,
      "metadata": {
        "id": "B2rkezKWmUz-"
      },
      "outputs": [],
      "source": [
        "import random\n",
        "import re\n",
        "import transformers\n",
        "from transformers import BertModel, BertTokenizer, AdamW, get_linear_schedule_with_warmup\n",
        "import torch\n",
        "import numpy as np\n",
        "import pandas as pd\n",
        "import seaborn as sns\n",
        "from pylab import rcParams\n",
        "import matplotlib.pyplot as plt\n",
        "from matplotlib import rc\n",
        "from sklearn.model_selection import train_test_split\n",
        "from sklearn.metrics import confusion_matrix, classification_report\n",
        "from collections import defaultdict\n",
        "from textwrap import wrap\n",
        "from torch import nn, optim\n",
        "from torch.utils.data import Dataset, DataLoader"
      ]
    },
    {
      "cell_type": "code",
      "execution_count": null,
      "metadata": {
        "id": "ee8O0cUYm8xN"
      },
      "outputs": [],
      "source": [
        "BASE_URL = '/content/drive/MyDrive/AWSHACK/'\n",
        "PATH = BASE_URL + 'final-merged-data-50.csv'"
      ]
    },
    {
      "cell_type": "code",
      "source": [
        "RANDOM_SEED = 2\n",
        "np.random.seed(RANDOM_SEED)\n",
        "torch.manual_seed(RANDOM_SEED)"
      ],
      "metadata": {
        "colab": {
          "base_uri": "https://localhost:8080/"
        },
        "id": "tnY_D5TYZI5J",
        "outputId": "0c93f460-8c3b-44f7-8644-782d7a5d92ea"
      },
      "execution_count": null,
      "outputs": [
        {
          "output_type": "execute_result",
          "data": {
            "text/plain": [
              "<torch._C.Generator at 0x7f3b3fbf87b0>"
            ]
          },
          "metadata": {},
          "execution_count": 87
        }
      ]
    },
    {
      "cell_type": "code",
      "execution_count": null,
      "metadata": {
        "colab": {
          "base_uri": "https://localhost:8080/"
        },
        "id": "qsrQg4Duropo",
        "outputId": "def40686-3830-4b93-ad39-82f41e3665f8"
      },
      "outputs": [
        {
          "output_type": "stream",
          "name": "stdout",
          "text": [
            "No GPU available, using the CPU instead.\n"
          ]
        }
      ],
      "source": [
        "# If there's a GPU available...\n",
        "if torch.cuda.is_available():    \n",
        "\n",
        "    # Tell PyTorch to use the GPU.    \n",
        "    device = torch.device(\"cuda\")\n",
        "\n",
        "    print('There are %d GPU(s) available.' % torch.cuda.device_count())\n",
        "\n",
        "    print('We will use the GPU:', torch.cuda.get_device_name(0))\n",
        "\n",
        "# If not...\n",
        "else:\n",
        "    print('No GPU available, using the CPU instead.')\n",
        "    device = torch.device(\"cpu\")"
      ]
    },
    {
      "cell_type": "code",
      "execution_count": null,
      "metadata": {
        "id": "5zJ9ZkEWnCDq"
      },
      "outputs": [],
      "source": [
        "raw_data_df = pd.read_csv(PATH)"
      ]
    },
    {
      "cell_type": "code",
      "source": [
        "len(raw_data_df['song_id'].drop_duplicates())"
      ],
      "metadata": {
        "colab": {
          "base_uri": "https://localhost:8080/"
        },
        "id": "fEaDifzPRB_w",
        "outputId": "6255d6a8-894d-401c-af40-fd99372d9ef7"
      },
      "execution_count": null,
      "outputs": [
        {
          "output_type": "execute_result",
          "data": {
            "text/plain": [
              "1241"
            ]
          },
          "metadata": {},
          "execution_count": 90
        }
      ]
    },
    {
      "cell_type": "code",
      "execution_count": null,
      "metadata": {
        "id": "1bSy6mc0uzkg",
        "colab": {
          "base_uri": "https://localhost:8080/"
        },
        "outputId": "c503b0ba-9215-4efa-a179-b133c16d9a37"
      },
      "outputs": [
        {
          "output_type": "execute_result",
          "data": {
            "text/plain": [
              "Unnamed: 0    0\n",
              "song_id       0\n",
              "lyrics        0\n",
              "Streams       0\n",
              "Date          0\n",
              "Genre         0\n",
              "label         0\n",
              "dtype: int64"
            ]
          },
          "metadata": {},
          "execution_count": 91
        }
      ],
      "source": [
        "raw_data_df.isna().sum()"
      ]
    },
    {
      "cell_type": "code",
      "source": [
        "data_df = raw_data_df.rename({'Streams':'streams', 'Genre':'genre', 'Date':'date'}, axis=1)"
      ],
      "metadata": {
        "id": "5eSXHM2ghQR0"
      },
      "execution_count": null,
      "outputs": []
    },
    {
      "cell_type": "code",
      "source": [
        "data_df.shape"
      ],
      "metadata": {
        "colab": {
          "base_uri": "https://localhost:8080/"
        },
        "id": "yXROqYzFiTGr",
        "outputId": "ec7ce7d0-f6fa-444d-b51b-045ed991932c"
      },
      "execution_count": null,
      "outputs": [
        {
          "output_type": "execute_result",
          "data": {
            "text/plain": [
              "(49353, 7)"
            ]
          },
          "metadata": {},
          "execution_count": 93
        }
      ]
    },
    {
      "cell_type": "code",
      "execution_count": null,
      "metadata": {
        "id": "Vqm9mNjjoVMy"
      },
      "outputs": [],
      "source": [
        "# Cast the numerical features to floats.\n",
        "data_df['streams'] = data_df['streams'].astype('int32')\n",
        "# data_df[\"price\"] = data_df[\"price\"].astype('float')"
      ]
    },
    {
      "cell_type": "code",
      "source": [
        "data_df.info()"
      ],
      "metadata": {
        "colab": {
          "base_uri": "https://localhost:8080/"
        },
        "id": "B3M6MJVvZmRP",
        "outputId": "ff99159b-ac87-4d23-e97a-3e20c1784b5d"
      },
      "execution_count": null,
      "outputs": [
        {
          "output_type": "stream",
          "name": "stdout",
          "text": [
            "<class 'pandas.core.frame.DataFrame'>\n",
            "RangeIndex: 49353 entries, 0 to 49352\n",
            "Data columns (total 7 columns):\n",
            " #   Column      Non-Null Count  Dtype \n",
            "---  ------      --------------  ----- \n",
            " 0   Unnamed: 0  49353 non-null  int64 \n",
            " 1   song_id     49353 non-null  int64 \n",
            " 2   lyrics      49353 non-null  object\n",
            " 3   streams     49353 non-null  int32 \n",
            " 4   date        49353 non-null  object\n",
            " 5   genre       49353 non-null  object\n",
            " 6   label       49353 non-null  int64 \n",
            "dtypes: int32(1), int64(3), object(3)\n",
            "memory usage: 2.4+ MB\n"
          ]
        }
      ]
    },
    {
      "cell_type": "code",
      "source": [
        "sns.countplot(data_df.label)\n",
        "plt.xlabel('label score')"
      ],
      "metadata": {
        "colab": {
          "base_uri": "https://localhost:8080/",
          "height": 351
        },
        "id": "YJ_f_U7pZwwX",
        "outputId": "ec8e479f-6bf6-4750-aa33-269a58fa54dd"
      },
      "execution_count": null,
      "outputs": [
        {
          "output_type": "stream",
          "name": "stderr",
          "text": [
            "/usr/local/lib/python3.7/dist-packages/seaborn/_decorators.py:43: FutureWarning: Pass the following variable as a keyword arg: x. From version 0.12, the only valid positional argument will be `data`, and passing other arguments without an explicit keyword will result in an error or misinterpretation.\n",
            "  FutureWarning\n"
          ]
        },
        {
          "output_type": "execute_result",
          "data": {
            "text/plain": [
              "Text(0.5, 0, 'label score')"
            ]
          },
          "metadata": {},
          "execution_count": 96
        },
        {
          "output_type": "display_data",
          "data": {
            "image/png": "[encoded data removed]",
            "text/plain": [
              "<Figure size 432x288 with 1 Axes>"
            ]
          },
          "metadata": {
            "needs_background": "light"
          }
        }
      ]
    },
    {
      "cell_type": "code",
      "source": [
        "def to_binary_class(value):\n",
        "  if value < 0:\n",
        "    return 0\n",
        "  else:\n",
        "    return 1"
      ],
      "metadata": {
        "id": "Ln1bIoBjaYUZ"
      },
      "execution_count": null,
      "outputs": []
    },
    {
      "cell_type": "code",
      "source": [
        "data_df.label = data_df.label.apply(to_binary_class)"
      ],
      "metadata": {
        "id": "Z49s95r2awXg"
      },
      "execution_count": null,
      "outputs": []
    },
    {
      "cell_type": "code",
      "source": [
        "class_names = ['bearish', 'bullish']"
      ],
      "metadata": {
        "id": "h3SAvKQGa1QK"
      },
      "execution_count": null,
      "outputs": []
    },
    {
      "cell_type": "code",
      "source": [
        "ax = sns.countplot(data_df.label)\n",
        "plt.xlabel('market sentiment')\n",
        "ax.set_xticklabels(class_names)"
      ],
      "metadata": {
        "colab": {
          "base_uri": "https://localhost:8080/",
          "height": 351
        },
        "id": "m36mOO9tbBDo",
        "outputId": "20338c84-3f37-4d7a-a393-e722b5aabc90"
      },
      "execution_count": null,
      "outputs": [
        {
          "output_type": "stream",
          "name": "stderr",
          "text": [
            "/usr/local/lib/python3.7/dist-packages/seaborn/_decorators.py:43: FutureWarning: Pass the following variable as a keyword arg: x. From version 0.12, the only valid positional argument will be `data`, and passing other arguments without an explicit keyword will result in an error or misinterpretation.\n",
            "  FutureWarning\n"
          ]
        },
        {
          "output_type": "execute_result",
          "data": {
            "text/plain": [
              "[Text(0, 0, 'bearish'), Text(0, 0, 'bullish')]"
            ]
          },
          "metadata": {},
          "execution_count": 100
        },
        {
          "output_type": "display_data",
          "data": {
            "image/png": "[encoded data removed]",
            "text/plain": [
              "<Figure size 432x288 with 1 Axes>"
            ]
          },
          "metadata": {
            "needs_background": "light"
          }
        }
      ]
    },
    {
      "cell_type": "code",
      "execution_count": null,
      "metadata": {
        "id": "5TPsW7Kjsda7"
      },
      "outputs": [],
      "source": [
        "PRE_TRAINED_MODEL_NAME = 'bert-base-uncased'"
      ]
    },
    {
      "cell_type": "code",
      "execution_count": null,
      "metadata": {
        "colab": {
          "base_uri": "https://localhost:8080/"
        },
        "id": "R3R8ea2GrzUp",
        "outputId": "d36a5ec3-59e7-4f36-a7f4-705856652e07"
      },
      "outputs": [
        {
          "output_type": "stream",
          "name": "stdout",
          "text": [
            "Loading BERT tokenizer...\n"
          ]
        }
      ],
      "source": [
        "# Load the BERT tokenizer.\n",
        "print('Loading BERT tokenizer...')\n",
        "tokenizer = BertTokenizer.from_pretrained(PRE_TRAINED_MODEL_NAME, do_lower_case=True)"
      ]
    },
    {
      "cell_type": "code",
      "execution_count": null,
      "metadata": {
        "colab": {
          "base_uri": "https://localhost:8080/"
        },
        "id": "SPmX-6e0snOh",
        "outputId": "dd2c0656-e71f-4d59-a2fa-b10716526673"
      },
      "outputs": [
        {
          "output_type": "stream",
          "name": "stderr",
          "text": [
            "Token indices sequence length is longer than the specified maximum sequence length for this model (934 > 512). Running this sequence through the model will result in indexing errors\n"
          ]
        },
        {
          "output_type": "stream",
          "name": "stdout",
          "text": [
            "Max sentence length:  1918\n",
            "Avg Length:  579.8265993265993\n",
            "50th Percentile 536.5\n",
            "90th Percentile 892.8999999999999\n"
          ]
        }
      ],
      "source": [
        "# Check for the max len of token through out the dataset\n",
        "sen_w_feats = data_df['lyrics'].drop_duplicates()\n",
        "max_len = 0\n",
        "size = []\n",
        "# For every sentence...\n",
        "for sent in sen_w_feats:\n",
        "    if sent != None or sent != '':\n",
        "      # Tokenize the text and add `[CLS]` and `[SEP]` tokens.\n",
        "      input_ids = tokenizer.encode(sent, add_special_tokens=True)\n",
        "      size.append(len(input_ids))\n",
        "      # Update the maximum sentence length.\n",
        "      max_len = max(max_len, len(input_ids))\n",
        "\n",
        "print('Max sentence length: ', max_len)\n",
        "print('Avg Length: ', sum(size)/len(size))\n",
        "print('50th Percentile', np.percentile(size, 50))\n",
        "print('90th Percentile', np.percentile(size, 90))"
      ]
    },
    {
      "cell_type": "code",
      "source": [
        "sns.distplot(size)\n",
        "plt.xlim([0, max_len]);\n",
        "plt.xlabel('Token count');"
      ],
      "metadata": {
        "colab": {
          "base_uri": "https://localhost:8080/",
          "height": 334
        },
        "id": "516D3RwPeFjv",
        "outputId": "7ac77137-bbe5-4da6-af30-bc255b211a48"
      },
      "execution_count": null,
      "outputs": [
        {
          "output_type": "stream",
          "name": "stderr",
          "text": [
            "/usr/local/lib/python3.7/dist-packages/seaborn/distributions.py:2619: FutureWarning: `distplot` is a deprecated function and will be removed in a future version. Please adapt your code to use either `displot` (a figure-level function with similar flexibility) or `histplot` (an axes-level function for histograms).\n",
            "  warnings.warn(msg, FutureWarning)\n"
          ]
        },
        {
          "output_type": "display_data",
          "data": {
            "image/png": "[encoded data removed]",
            "text/plain": [
              "<Figure size 432x288 with 1 Axes>"
            ]
          },
          "metadata": {
            "needs_background": "light"
          }
        }
      ]
    },
    {
      "cell_type": "markdown",
      "source": [
        "Train Test Val Split"
      ],
      "metadata": {
        "id": "px4aACqpuB2u"
      }
    },
    {
      "cell_type": "code",
      "source": [
        "# Larger batch sizes tend to be better, and we can fit this in memory.\n",
        "BATCH_SIZE = 32\n",
        "\n",
        "# I used a smaller learning rate to combat over-fitting that I was seeing in the\n",
        "# validation loss. I could probably try even smaller.\n",
        "LR = 2e-5\n",
        "\n",
        "# Number of training epochs. \n",
        "EPOCHS = 6\n",
        "MAX_LEN = 10\n",
        "TRAIN_TEST_SPLIT = 0.4\n",
        "N_CLASSES = 2"
      ],
      "metadata": {
        "id": "REIthx6UekOt"
      },
      "execution_count": null,
      "outputs": []
    },
    {
      "cell_type": "code",
      "source": [
        "def group_array(data_df, column):\n",
        "  gb = data_df.groupby([column])\n",
        "  return [gb.get_group(x) for x in gb.groups]"
      ],
      "metadata": {
        "id": "bcgvbZVnIkbC"
      },
      "execution_count": null,
      "outputs": []
    },
    {
      "cell_type": "code",
      "source": [
        "group_arr = group_array(data_df, 'date')"
      ],
      "metadata": {
        "id": "F5vcIFVKooKc"
      },
      "execution_count": null,
      "outputs": []
    },
    {
      "cell_type": "code",
      "source": [
        "group_arr_train, group_arr_test = train_test_split(\n",
        "  group_arr,\n",
        "  test_size=TRAIN_TEST_SPLIT,\n",
        "  random_state=RANDOM_SEED\n",
        ")"
      ],
      "metadata": {
        "id": "g0OkOfXHroNR"
      },
      "execution_count": null,
      "outputs": []
    },
    {
      "cell_type": "code",
      "source": [
        "group_arr_val, group_arr_test = train_test_split(\n",
        "  group_arr_test,\n",
        "  test_size=0.2,\n",
        "  random_state=RANDOM_SEED\n",
        ")"
      ],
      "metadata": {
        "id": "JsfsvEMZspwR"
      },
      "execution_count": null,
      "outputs": []
    },
    {
      "cell_type": "code",
      "source": [
        "def middle_list(sentences, min_lenght):\n",
        "  length = len(sentences)\n",
        "  if length > min_lenght:\n",
        "    half = length / 2\n",
        "    half = int(half)\n",
        "    quad = half / 2\n",
        "    quad = int(quad)\n",
        "    sentences = sentences[quad:quad+half]\n",
        "  return sentences\n"
      ],
      "metadata": {
        "id": "RwO-Yskwj1I6"
      },
      "execution_count": null,
      "outputs": []
    },
    {
      "cell_type": "code",
      "source": [
        "def preprocess_lyrics(text):\n",
        "  sentences = list(set(re.split(\"  +\", text)))\n",
        "  sentences = middle_list(sentences, 10)\n",
        "  text_new = \". \".join(sentences)\n",
        "  sentences = list(re.split(\" +\", text))\n",
        "  sentences = middle_list(sentences, 200)\n",
        "  return \" \".join(sentences)"
      ],
      "metadata": {
        "id": "wiZ3Ib7pamZT"
      },
      "execution_count": null,
      "outputs": []
    },
    {
      "cell_type": "code",
      "source": [
        "def dataset_maker(group_arr, max_len, tokenizer):\n",
        "  target = torch.stack([torch.tensor(x['label'].max()) for x in group_arr])\n",
        "  table = pd.concat([gb for gb in group_arr])\n",
        "  unique_songs = table[['song_id', 'lyrics']].drop_duplicates('song_id')\n",
        "  unique_songs['lyrics'] = unique_songs['lyrics'].apply(preprocess_lyrics)\n",
        "  unique_songs['unique_song_pos'] = range(0, len(unique_songs))\n",
        "  mapping_table = pd.merge(table, unique_songs, how='inner', on=['song_id'])\n",
        "  mapping_table = mapping_table[['song_id', 'unique_song_pos', 'date', 'streams']]\n",
        "  mapping_table = group_array(mapping_table, 'date')\n",
        "  # Tokenize all of the sentences and map the tokens to thier word IDs.\n",
        "  input_ids = []\n",
        "  attention_masks = []\n",
        "  sen_w_feats = unique_songs['lyrics']\n",
        "  print('Encoding all lyrics in the dataset...')\n",
        "  # For every sentence...\n",
        "  for sent in sen_w_feats:\n",
        "      # `encode_plus` will:\n",
        "      #   (1) Tokenize the sentence.\n",
        "      #   (2) Prepend the `[CLS]` token to the start.\n",
        "      #   (3) Append the `[SEP]` token to the end.\n",
        "      #   (4) Map tokens to their IDs.\n",
        "      #   (5) Pad or truncate the sentence to `max_length`\n",
        "      #   (6) Create attention masks for [PAD] tokens.\n",
        "      encoded_dict = tokenizer.encode_plus(\n",
        "                          sent,                      # Sentence to encode.\n",
        "                          add_special_tokens = True, # Add '[CLS]' and '[SEP]'\n",
        "                          max_length = max_len,           # Pad & truncate all sentences.\n",
        "                          truncation = True,\n",
        "                          padding = 'max_length',\n",
        "                          return_attention_mask = True,   # Construct attn. masks.\n",
        "                          return_tensors = 'pt',     # Return pytorch tensors.\n",
        "                  )\n",
        "          # Add the encoded sentence to the list.    \n",
        "      input_ids.append(encoded_dict['input_ids'])\n",
        "      \n",
        "      # And its attention mask (simply differentiates padding from non-padding).\n",
        "      attention_masks.append(encoded_dict['attention_mask'])\n",
        "\n",
        "  input_ids = torch.stack(input_ids)\n",
        "  input_ids_shape = input_ids.size()\n",
        "  input_ids = torch.reshape(input_ids, (input_ids_shape[0], input_ids_shape[2]))\n",
        "  attention_masks = torch.stack(attention_masks)\n",
        "  attention_masks_shape = attention_masks.size()\n",
        "  attention_masks = torch.reshape(attention_masks, (attention_masks_shape[0], attention_masks_shape[2]))\n",
        "\n",
        "  return {\n",
        "      \"input_ids\":input_ids,\n",
        "      \"attention_mask\":attention_masks,\n",
        "      \"unique_songs\":unique_songs,\n",
        "      \"mapping_table\": mapping_table,\n",
        "      \"targets\": target\n",
        "  }"
      ],
      "metadata": {
        "id": "FRb7ALUPuqx3"
      },
      "execution_count": null,
      "outputs": []
    },
    {
      "cell_type": "code",
      "source": [
        "data_df_train = dataset_maker(group_arr_train, MAX_LEN, tokenizer)\n",
        "data_df_test = dataset_maker(group_arr_test, MAX_LEN, tokenizer)\n",
        "data_df_val = dataset_maker(group_arr_val, MAX_LEN, tokenizer)"
      ],
      "metadata": {
        "id": "TLecoIMts0s5",
        "colab": {
          "base_uri": "https://localhost:8080/"
        },
        "outputId": "fe497ea6-85fa-43a3-b3d8-9d11660e4251"
      },
      "execution_count": null,
      "outputs": [
        {
          "output_type": "stream",
          "name": "stdout",
          "text": [
            "Encoding all lyrics in the dataset...\n",
            "Encoding all lyrics in the dataset...\n",
            "Encoding all lyrics in the dataset...\n"
          ]
        }
      ]
    },
    {
      "cell_type": "code",
      "source": [
        "print(data_df_train['input_ids'].shape)\n",
        "print(data_df_train['attention_mask'].shape)\n",
        "print(data_df_train['unique_songs'].shape)\n",
        "print(len(data_df_train['mapping_table']))\n",
        "print(data_df_train['targets'].shape )\n",
        "print(data_df_test['input_ids'].shape)"
      ],
      "metadata": {
        "colab": {
          "base_uri": "https://localhost:8080/"
        },
        "id": "i5U3PtX9tlsQ",
        "outputId": "54329de1-5809-4910-e219-5efc5cba0050"
      },
      "execution_count": null,
      "outputs": [
        {
          "output_type": "stream",
          "name": "stdout",
          "text": [
            "torch.Size([1178, 10])\n",
            "torch.Size([1178, 10])\n",
            "(1178, 3)\n",
            "663\n",
            "torch.Size([663])\n",
            "torch.Size([791, 10])\n"
          ]
        }
      ]
    },
    {
      "cell_type": "code",
      "source": [
        "# Mapping Layer that maps songs to the mapping table\n",
        "class MappingLayer(nn.Module):\n",
        "  def __init__(self, group_column='date'):\n",
        "    super(MappingLayer, self).__init__()\n",
        "  \n",
        "  def forward(self, bert_output, mapping_table):\n",
        "    x_data = []\n",
        "    bert_output = bert_output.detach().numpy()\n",
        "    for gp in mapping_table:\n",
        "      weighted_predictions = gp.apply(lambda row: bert_output[row['unique_song_pos']] * row['streams'], axis=1)\n",
        "      total_streams = gp['streams'].max()\n",
        "      normalized_weighted_predictions = weighted_predictions.apply(lambda x: x / total_streams)\n",
        "      normalized_weighted_predictions_avg = normalized_weighted_predictions.sum()/len(normalized_weighted_predictions)\n",
        "      x_data.append(normalized_weighted_predictions_avg)\n",
        "    return torch.tensor(np.array(x_data), requires_grad=True).float()"
      ],
      "metadata": {
        "id": "s-TO6JNl5H2h"
      },
      "execution_count": null,
      "outputs": []
    },
    {
      "cell_type": "code",
      "source": [
        "# Lyrics Sentiment Classifier uses BERT MODEL and Linear Classifier\n",
        "class LyricsSentimentClassifier(nn.Module):\n",
        "  def __init__(self, n_classes):\n",
        "    super(LyricsSentimentClassifier, self).__init__()\n",
        "    self.bert = BertModel.from_pretrained(PRE_TRAINED_MODEL_NAME)\n",
        "    self.dropout = nn.Dropout(p=0.1)\n",
        "    self.mapping = MappingLayer()\n",
        "    self.linear = nn.Linear(self.bert.config.hidden_size, 256)\n",
        "    self.hidden = nn.Linear(256, 2)\n",
        "    self.sigmoid = nn.Sigmoid()\n",
        "    self.softmax = nn.Softmax(dim=1)\n",
        "\n",
        "  def forward(self, input_ids, attention_mask, mapping_table):\n",
        "    base_model_output = self.bert(\n",
        "      input_ids=input_ids, attention_mask=attention_mask\n",
        "    )\n",
        "    pooler_output = base_model_output.pooler_output\n",
        "    bert_output = self.dropout(pooler_output)\n",
        "    x = self.mapping(bert_output, mapping_table)\n",
        "    x = self.linear(x)\n",
        "    x = self.hidden(x)\n",
        "    x = self.sigmoid(x)\n",
        "    return self.softmax(x)"
      ],
      "metadata": {
        "id": "dFEqaxSYrMGQ"
      },
      "execution_count": null,
      "outputs": []
    },
    {
      "cell_type": "code",
      "source": [
        "model = LyricsSentimentClassifier(N_CLASSES)"
      ],
      "metadata": {
        "colab": {
          "base_uri": "https://localhost:8080/"
        },
        "id": "Mq6xMSVL9jLp",
        "outputId": "61d8eec0-3cf9-4543-9b8c-672edd7bd7b4"
      },
      "execution_count": null,
      "outputs": [
        {
          "output_type": "stream",
          "name": "stderr",
          "text": [
            "Some weights of the model checkpoint at bert-base-uncased were not used when initializing BertModel: ['cls.predictions.transform.LayerNorm.weight', 'cls.predictions.bias', 'cls.predictions.transform.dense.bias', 'cls.seq_relationship.weight', 'cls.predictions.transform.dense.weight', 'cls.predictions.decoder.weight', 'cls.seq_relationship.bias', 'cls.predictions.transform.LayerNorm.bias']\n",
            "- This IS expected if you are initializing BertModel from the checkpoint of a model trained on another task or with another architecture (e.g. initializing a BertForSequenceClassification model from a BertForPreTraining model).\n",
            "- This IS NOT expected if you are initializing BertModel from the checkpoint of a model that you expect to be exactly identical (initializing a BertForSequenceClassification model from a BertForSequenceClassification model).\n"
          ]
        }
      ]
    },
    {
      "cell_type": "code",
      "source": [
        "optimizer = AdamW(model.parameters(), lr=LR, correct_bias=False)\n",
        "total_steps =  EPOCHS+1\n",
        "scheduler = get_linear_schedule_with_warmup(\n",
        "  optimizer,\n",
        "  num_warmup_steps=2,\n",
        "  num_training_steps=total_steps\n",
        ")\n",
        "loss_fn = nn.CrossEntropyLoss().to(device)"
      ],
      "metadata": {
        "colab": {
          "base_uri": "https://localhost:8080/"
        },
        "id": "sDBJ-CRq9XcK",
        "outputId": "c1cd678f-59b7-4f5a-e263-ad9295de3cb6"
      },
      "execution_count": null,
      "outputs": [
        {
          "output_type": "stream",
          "name": "stderr",
          "text": [
            "/usr/local/lib/python3.7/dist-packages/transformers/optimization.py:309: FutureWarning: This implementation of AdamW is deprecated and will be removed in a future version. Use thePyTorch implementation torch.optim.AdamW instead, or set `no_deprecation_warning=True` to disable this warning\n",
            "  FutureWarning,\n"
          ]
        }
      ]
    },
    {
      "cell_type": "code",
      "source": [
        "def train_epoch(\n",
        "  model,\n",
        "  data_loader,\n",
        "  loss_fn,\n",
        "  optimizer,\n",
        "  device,\n",
        "  scheduler\n",
        "):\n",
        "  model = model.train()\n",
        "  losses = []\n",
        "  correct_predictions = 0\n",
        "  # for d in data_loader:\n",
        "  input_ids = data_loader[\"input_ids\"].to(device)\n",
        "  attention_mask = data_loader[\"attention_mask\"].to(device)\n",
        "  mapping_table = data_loader['mapping_table']\n",
        "  targets = data_loader[\"targets\"].to(device)\n",
        "  n_examples = len(mapping_table)\n",
        "  outputs = model(\n",
        "    input_ids=input_ids,\n",
        "    attention_mask=attention_mask,\n",
        "    mapping_table=mapping_table\n",
        "  )\n",
        "  _, preds = torch.max(outputs, dim=1)\n",
        "  loss = loss_fn(outputs, targets)\n",
        "  correct_predictions += torch.sum(preds == targets)\n",
        "  losses.append(loss.item())\n",
        "  loss.backward()\n",
        "  nn.utils.clip_grad_norm_(model.parameters(), max_norm=1.0)\n",
        "  optimizer.step()\n",
        "  scheduler.step()\n",
        "  optimizer.zero_grad()\n",
        "  return correct_predictions.double() / n_examples, np.mean(losses)"
      ],
      "metadata": {
        "id": "4k_tQVKtkQsD"
      },
      "execution_count": null,
      "outputs": []
    },
    {
      "cell_type": "markdown",
      "source": [
        "Evaluation"
      ],
      "metadata": {
        "id": "nP-vggu8lixe"
      }
    },
    {
      "cell_type": "code",
      "source": [
        "def eval_model(model, data_loader, loss_fn, device):\n",
        "  model = model.eval()\n",
        "  losses = []\n",
        "  correct_predictions = 0\n",
        "  with torch.no_grad():\n",
        "    # for d in data_loader:\n",
        "    input_ids = data_loader[\"input_ids\"].to(device)\n",
        "    attention_mask = data_loader[\"attention_mask\"].to(device)\n",
        "    mapping_table = data_loader['mapping_table']\n",
        "    targets = data_loader[\"targets\"].to(device)\n",
        "    n_examples = len(mapping_table)\n",
        "    outputs = model(\n",
        "      input_ids=input_ids,\n",
        "      attention_mask=attention_mask,\n",
        "      mapping_table=mapping_table\n",
        "    )\n",
        "    _, preds = torch.max(outputs, dim=1)\n",
        "    loss = loss_fn(outputs, targets)\n",
        "    correct_predictions += torch.sum(preds == targets)\n",
        "    losses.append(loss.item())\n",
        "  return correct_predictions.double() / n_examples, np.mean(losses)"
      ],
      "metadata": {
        "id": "3HGZwA1owuxX"
      },
      "execution_count": null,
      "outputs": []
    },
    {
      "cell_type": "code",
      "source": [
        "%%time\n",
        "history = defaultdict(list)\n",
        "best_accuracy = 0\n",
        "for epoch in range(EPOCHS):\n",
        "  print(f'Epoch {epoch + 1}/{EPOCHS}')\n",
        "  print('-' * 50)\n",
        "  train_acc, train_loss = train_epoch(\n",
        "    model,\n",
        "    data_df_train,\n",
        "    loss_fn,\n",
        "    optimizer,\n",
        "    device,\n",
        "    scheduler\n",
        "  )\n",
        "  print(f'Train loss {train_loss} accuracy {train_acc}')\n",
        "  val_acc, val_loss = eval_model(\n",
        "    model,\n",
        "    data_df_test,\n",
        "    loss_fn,\n",
        "    device\n",
        "  )\n",
        "  print(f'Val   loss {val_loss} accuracy {val_acc}')\n",
        "  print()\n",
        "  history['train_acc'].append(train_acc)\n",
        "  history['train_loss'].append(train_loss)\n",
        "  history['val_acc'].append(val_acc)\n",
        "  history['val_loss'].append(val_loss)\n",
        "  if val_acc > best_accuracy:\n",
        "    torch.save(model.state_dict(), 'best_model_state.bin')\n",
        "    best_accuracy = val_acc"
      ],
      "metadata": {
        "colab": {
          "base_uri": "https://localhost:8080/"
        },
        "id": "x6K3-FGQnivB",
        "outputId": "1a3b1be6-a15a-4b3f-e8b3-40e849d9a332"
      },
      "execution_count": null,
      "outputs": [
        {
          "output_type": "stream",
          "name": "stdout",
          "text": [
            "Epoch 1/6\n",
            "--------------------------------------------------\n",
            "Train loss 0.693334698677063 accuracy 0.43288084464555054\n",
            "Val   loss 0.6936485767364502 accuracy 0.3707865168539326\n",
            "\n",
            "Epoch 2/6\n",
            "--------------------------------------------------\n",
            "Train loss 0.6933153867721558 accuracy 0.43288084464555054\n",
            "Val   loss 0.6928703784942627 accuracy 0.6292134831460674\n",
            "\n",
            "Epoch 3/6\n",
            "--------------------------------------------------\n",
            "Train loss 0.6929650902748108 accuracy 0.5625942684766214\n",
            "Val   loss 0.6910296082496643 accuracy 0.6292134831460674\n",
            "\n",
            "Epoch 4/6\n",
            "--------------------------------------------------\n",
            "Train loss 0.6921079158782959 accuracy 0.5671191553544495\n",
            "Val   loss 0.6894365549087524 accuracy 0.6292134831460674\n",
            "\n",
            "Epoch 5/6\n",
            "--------------------------------------------------\n",
            "Train loss 0.6914213299751282 accuracy 0.5671191553544495\n",
            "Val   loss 0.6881857514381409 accuracy 0.6292134831460674\n",
            "\n",
            "Epoch 6/6\n",
            "--------------------------------------------------\n",
            "Train loss 0.6908366084098816 accuracy 0.5671191553544495\n",
            "Val   loss 0.6873268485069275 accuracy 0.6292134831460674\n",
            "\n",
            "CPU times: user 6min 5s, sys: 19 s, total: 6min 24s\n",
            "Wall time: 6min 27s\n"
          ]
        }
      ]
    },
    {
      "cell_type": "code",
      "source": [
        "plt.plot(history['train_acc'], label='train accuracy')\n",
        "plt.plot(history['val_acc'], label='validation accuracy')\n",
        "plt.title('Training history')\n",
        "plt.ylabel('Accuracy')\n",
        "plt.xlabel('Epoch')\n",
        "plt.legend()\n",
        "plt.ylim([0, 1]);"
      ],
      "metadata": {
        "colab": {
          "base_uri": "https://localhost:8080/",
          "height": 295
        },
        "id": "Vl9XzH73NshR",
        "outputId": "42cfa9fd-0631-4fc2-c3d6-7c375d7c74ee"
      },
      "execution_count": null,
      "outputs": [
        {
          "output_type": "display_data",
          "data": {
            "image/png": "[encoded data removed]",
            "text/plain": [
              "<Figure size 432x288 with 1 Axes>"
            ]
          },
          "metadata": {
            "needs_background": "light"
          }
        }
      ]
    },
    {
      "cell_type": "code",
      "source": [
        "plt.plot(history['train_loss'])"
      ],
      "metadata": {
        "colab": {
          "base_uri": "https://localhost:8080/",
          "height": 283
        },
        "id": "ccsZL8zxNzkg",
        "outputId": "5aa869c1-f0dd-42ac-fe5c-afecf8a3d31a"
      },
      "execution_count": null,
      "outputs": [
        {
          "output_type": "execute_result",
          "data": {
            "text/plain": [
              "[<matplotlib.lines.Line2D at 0x7f3ac35e9bd0>]"
            ]
          },
          "metadata": {},
          "execution_count": 123
        },
        {
          "output_type": "display_data",
          "data": {
            "image/png": "[encoded data removed]",
            "text/plain": [
              "<Figure size 432x288 with 1 Axes>"
            ]
          },
          "metadata": {
            "needs_background": "light"
          }
        }
      ]
    },
    {
      "cell_type": "markdown",
      "source": [
        "Loading Models & Validation"
      ],
      "metadata": {
        "id": "B_ji2gBDfmH9"
      }
    },
    {
      "cell_type": "code",
      "source": [
        "model = LyricsSentimentClassifier(N_CLASSES)\n",
        "model.load_state_dict(torch.load(\"best_model_state.bin\"))"
      ],
      "metadata": {
        "id": "f_kBEv-RgEhg",
        "colab": {
          "base_uri": "https://localhost:8080/"
        },
        "outputId": "aac6a99b-357c-4329-e660-397955a54450"
      },
      "execution_count": null,
      "outputs": [
        {
          "output_type": "stream",
          "name": "stderr",
          "text": [
            "Some weights of the model checkpoint at bert-base-uncased were not used when initializing BertModel: ['cls.predictions.transform.LayerNorm.weight', 'cls.predictions.bias', 'cls.predictions.transform.dense.bias', 'cls.seq_relationship.weight', 'cls.predictions.transform.dense.weight', 'cls.predictions.decoder.weight', 'cls.seq_relationship.bias', 'cls.predictions.transform.LayerNorm.bias']\n",
            "- This IS expected if you are initializing BertModel from the checkpoint of a model trained on another task or with another architecture (e.g. initializing a BertForSequenceClassification model from a BertForPreTraining model).\n",
            "- This IS NOT expected if you are initializing BertModel from the checkpoint of a model that you expect to be exactly identical (initializing a BertForSequenceClassification model from a BertForSequenceClassification model).\n"
          ]
        },
        {
          "output_type": "execute_result",
          "data": {
            "text/plain": [
              "<All keys matched successfully>"
            ]
          },
          "metadata": {},
          "execution_count": 124
        }
      ]
    },
    {
      "cell_type": "code",
      "source": [
        "# model.eval()"
      ],
      "metadata": {
        "id": "MB2mssgWfkVk"
      },
      "execution_count": null,
      "outputs": []
    },
    {
      "cell_type": "code",
      "source": [
        "with torch.no_grad():\n",
        "    # for d in data_loader:\n",
        "    input_ids = data_df_val[\"input_ids\"].to(device)\n",
        "    attention_mask = data_df_val[\"attention_mask\"].to(device)\n",
        "    mapping_table = data_df_val['mapping_table']\n",
        "    targets = data_df_val[\"targets\"].to(device)\n",
        "    n_examples = len(mapping_table)\n",
        "    outputs = model(\n",
        "      input_ids=input_ids,\n",
        "      attention_mask=attention_mask,\n",
        "      mapping_table=mapping_table\n",
        "    )\n",
        "    _, preds = torch.max(outputs, dim=1)\n",
        "\n",
        "val_acc = preds.eq(targets).sum()/len(targets) * 100\n",
        "print(\"Accuracy on the validation data: \", val_acc)"
      ],
      "metadata": {
        "id": "CU4mPommfw7-"
      },
      "execution_count": null,
      "outputs": []
    }
  ],
  "metadata": {
    "colab": {
      "collapsed_sections": [],
      "name": "TrainingBertModelUncased.ipynb",
      "provenance": []
    },
    "kernelspec": {
      "display_name": "Python 3",
      "name": "python3"
    },
    "language_info": {
      "name": "python"
    }
  },
  "nbformat": 4,
  "nbformat_minor": 0
}